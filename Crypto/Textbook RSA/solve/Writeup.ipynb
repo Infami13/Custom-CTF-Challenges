{
 "cells": [
  {
   "cell_type": "markdown",
   "id": "4178fe1c-4d95-44bc-967b-6c22750bc4f4",
   "metadata": {},
   "source": [
    "# Textbook RSA Solution"
   ]
  },
  {
   "cell_type": "markdown",
   "id": "1f23caea-e95f-4658-a1fd-553d519ee6ed",
   "metadata": {},
   "source": [
    "## Exploring our Public Keys\n",
    "\n",
    "As we first approach this problem, we see that $\\texttt{ciphertexts.csv}$ lists $100$ different public keys for the same message, where $c_i$ is our ciphertext in decimal form, $n_i$ is our public modulus, and $e_i$ is our encrypting exponent. Further inspection into $\\texttt{scrypt.py}$ reveals that the custom RSA scheme makes no use of random padding to secure messages (RSA without padding is known as textbook RSA, hence the challenge name).  Given there is no randomness added to the same message and the same exponent is used to encrypt each method, we may try two avenues of attack: find a common prime or employ the Chinese Remainder Theorem. Whatever the case, we start by collecting our data:"
   ]
  },
  {
   "cell_type": "code",
   "execution_count": 1,
   "id": "f526bf4c-0750-4524-9c4e-821abb67ec8c",
   "metadata": {},
   "outputs": [],
   "source": [
    "f = open('ciphertexts.csv')\n",
    "public = f.read()[:-1] #Omit last linebreak character\n",
    "f.close()\n",
    "rows = public.split('\\n')\n",
    "\n",
    "ciphers = []\n",
    "moduli = []\n",
    "\n",
    "for row in rows[1:]: #Skip first line with titles\n",
    "    id_, c, n, e = row.split(',')\n",
    "    ciphers.append(int(c))\n",
    "    moduli.append(int(n))\n"
   ]
  },
  {
   "cell_type": "markdown",
   "id": "7956b6e5-9e4e-4604-b5ea-f3935a06510d",
   "metadata": {},
   "source": [
    "## Attempting to Find a Common Prime\n",
    "\n",
    "Prime estimating functions approximate there are over $10^{150}$ $512$-bit primes, so finding a common prime in this setting (or similar ones) will almost never happen. However, to use the Chinese Remainder Theorem, we must check that multiple of our public moduli are pairwise coprime. Still, there is very little computational cost incurred by checking all $100$ moduli are pairwise coprime thanks to the Euclidean algorithm. In fact, some languages may have this algorithm already incorporated with built-in functions (here with Python, we use the $\\texttt{gcd}$ function from the internal library $\\texttt{math}$ to check if two integers are coprime). Further, we use $\\texttt{combinations}$ from $\\texttt{itertools}$ to focus calculations on only the $4950$ unique unorders pairs of our $100$ moduli. Nevertheless, we find all our public moduli are pairwise coprime:"
   ]
  },
  {
   "cell_type": "code",
   "execution_count": 2,
   "id": "2d4389b5-bc17-4594-96c2-39536a669860",
   "metadata": {},
   "outputs": [
    {
     "name": "stdout",
     "output_type": "stream",
     "text": [
      "Moduli are pairwise coprime!\n"
     ]
    }
   ],
   "source": [
    "from math import gcd\n",
    "from itertools import combinations\n",
    "\n",
    "common_prime = False\n",
    "for combo in combinations(moduli, 2):\n",
    "    d = gcd(*combo)\n",
    "    if d != 1:\n",
    "        common_prime = True\n",
    "        break\n",
    "\n",
    "if not common_prime:\n",
    "    print('Moduli are pairwise coprime!')"
   ]
  },
  {
   "cell_type": "markdown",
   "id": "8f647d9a-c550-4737-9add-8db75e029491",
   "metadata": {},
   "source": [
    "## The Chinese Remainder Theorem\n",
    "\n",
    "Here, we state the Theorem and it corresponding proof. It is worth mentioning the proof is mainly provided to supplement insight into how we (and other sources) build a custom algorithm to solve a system of equations involving modular arthimetic. Still, the reader would not be faulted for skipping the proof and are safe to do so as many online sources supply code to approach the Chinese Remainder Theorem.\n",
    "\n",
    "**Theorem.** Let $n_1, n_2, \\cdots, n_k$ be integers greater than 1 and $N$ be the product of all $n_i$. That is,\n",
    "\n",
    "$$N = n_1n_2\\cdots n_k.$$\n",
    "\n",
    "If $\\gcd(n_i, n_j) = 1$ whenever $i \\ne j$, and if $c_1, c_2, \\cdots, c_k$ are integers such that $0 \\le c_i < n_i$ for every $i$, then there is a unique integer $x$ such that $0 \\le x < N$ and $x \\equiv c_i\\ \\mathrm{(mod\\ } n_i)$ for each $i$.\n",
    "\n",
    "*Proof.* We start with existence. Let $N_i = N/n_i$ (note that $N_i$ is an integer as $n_i$ is a factor of $N$). Given $\\gcd(n_i, n_j) = 1$ whenever $i \\ne j$, we have $\\gcd(n_i, N_i) = 1$ for each $i$. In words, $n_i$ is coprime with integer $N_i$. By Bezout's Identity, there exists integers $q_i$ and $M_i$ such that\n",
    "\n",
    "$$\n",
    "\\begin{align}\n",
    "q_in_i + M_i(N_i) &= 1 \\\\\n",
    "M_i(N_i) &= (-q_i)n_i + 1.\n",
    "\\end{align}\n",
    "$$\n",
    "\n",
    "That is to say, there exists an integer $M_i$ such that $M_iN_i \\equiv 1\\ \\ (\\mathrm{mod}\\ n_i)$. Let \n",
    "$$x = c_1M_1N_1 + c_2M_2N_2 + \\cdots + c_kM_kN_k.$$\n",
    "\n",
    "Seeing that $n_1$ appears in the factorization of every integer $N_i$ except when $i = 1$, we have\n",
    "\n",
    "$$\n",
    "\\begin{align}\n",
    "x &\\equiv c_1M_1N_1 + c_2M_2(0) + \\cdots + c_kM_k(0)\\ \\ (\\mathrm{mod}\\ n_1) \\\\\n",
    "&\\equiv c_1M_1N_1\\ \\ (\\mathrm{mod}\\ n_1) \\\\\n",
    "&\\equiv c_1(1)\\ \\ (\\mathrm{mod}\\ n_1) \\\\\n",
    "&\\equiv c_1\\ \\ (\\mathrm{mod}\\ n_1).\n",
    "\\end{align}\n",
    "$$\n",
    "\n",
    "A similar argument shows $x \\equiv c_i\\ \\ (\\mathrm{mod}\\ n_i)$ for each $i$. If $x < 0$ or $N < x$, choose the remainder of $x$ after Euclidean division by $N$ instead.\n",
    "\n",
    "To show $x$ is unique, suppose $x' = c_i\\ \\ (\\mathrm{mod}\\ n_i)$ for each $i$ with $0 \\le x' < N$. That is, $x = an_i + c_i$ and $x' = a'n_i + c_i$. Without loss of generality, assume $x \\ge x'$. Then $x - x' = (a - a')n_i$ for each $i$. In turn, we have $x - x'$ as a multiple of every $n_i$. With $n_i$ pairwise coprime, then $x - x'$ is a multiple of $N$. Simultaneously, recall that $x < N$, so $x - x' < N - x' < N$. It then follows that $0 \\le x - x' < N$. However, $0$ is the only non-negative multiple of $N$ less than $N$, so $x - x' = 0$ and $x = x'$."
   ]
  },
  {
   "cell_type": "markdown",
   "id": "9c7f1ed3-f367-4670-8b7e-25c91c1ebfbf",
   "metadata": {},
   "source": [
    "## A Custom Algorithm\n",
    "\n",
    "Forturnately, the proof above asserts two notions. Specifically, existance shows we may find a number $x$ that satisfies a system of equations involving modular arthimetic, and uniqueness shows $x\\ \\mathrm{mod}\\ N = t^{17}$, where $N$ is the product of moduli and $t$ is our plaintext in decimal form. With our proof, we may also construct an algorithm:"
   ]
  },
  {
   "cell_type": "code",
   "execution_count": 3,
   "id": "dfe49b80-881c-4f97-9c7f-ca06df63b69c",
   "metadata": {},
   "outputs": [],
   "source": [
    "def crt(remainders, moduli):\n",
    "    sum = 0\n",
    "    N = 1\n",
    "    \n",
    "    for n_i in moduli:\n",
    "        N *= n_i\n",
    "    \n",
    "    for r_i, n_i in zip(remainders, moduli):\n",
    "        N_i = N // n_i\n",
    "        M_i = pow(N_i, -1, n_i)\n",
    "        sum += r_i * M_i * N_i\n",
    "    \n",
    "    return sum % N"
   ]
  },
  {
   "cell_type": "markdown",
   "id": "2ba2ec04-dd7e-4a4a-bb90-04fef47d4828",
   "metadata": {},
   "source": [
    "Note that the built-in function $\\texttt{pow}$ accepts three positional agruments: a base, a power, and a modulus. Here $\\texttt{pow}$ uses the extended Euclidean algorithm to calculate $N_i^{-1}$ under modulus $n_i$, where $N_1^{-1}$ is an integer such that $N_i^{-1}N_i \\equiv 1\\ \\ (\\mathrm{mod}\\ n_i)$. For example, $3^{-1}\\equiv 2 \\ \\ (\\mathrm{mod}\\ 5)$ as $3\\cdot2 \\equiv 1\\ \\ (\\mathrm{mod}\\ 5)$. "
   ]
  },
  {
   "cell_type": "markdown",
   "id": "b247af95-992b-4605-9e96-8d5a4f92daba",
   "metadata": {},
   "source": [
    "## Finding our Plaintext\n",
    "\n",
    "Again, our algorithm will find an $x$ such that $x\\ \\mathrm{mod}\\ N = t^{17}$, so we want to make $N$ large enough so that $0 \\le x < N$, which will assert $x = t^{17}$ and make decryption significantly easier. In this may problem, we may find $t^{17}$ using as little as $5$ public keys. Although, it also takes very little time when we use all $100$:"
   ]
  },
  {
   "cell_type": "code",
   "execution_count": 4,
   "id": "9628fb03-8e64-4330-b848-d8a3229309cf",
   "metadata": {},
   "outputs": [
    {
     "name": "stdout",
     "output_type": "stream",
     "text": [
      "793964349318498362142110330260374279340366945812935732197567293806257363292215700753768420933397770569721188612308773706952974118770944881798345370350042269866469397964850419368011240479686477106304596374168920130540292633522762855270576380600586550612536375469328019308442147566672864966234671248595177853005294847512912774323894842559439566488692645726121718030861399128427228725569513175281134754607141360951688038966280716960676786387491491151907109105554245722340083447413975986939241675826347086971054894370418061031731567061523041086967271458779559159616696410040561764838471999895508846054796658942510344168578676381712552348176103242956324994955289200196759278634405513390923313618067732849928559411905989101260634066831275392106910115373542101196859626475764487542916397499045751908759361158784444560979913667301409293949621302700439130821569357422102345471849164335528687327399416591880960329459541194200649483732803468549801539261021370770018256741737489940119719127143450028268233355206982106342081381862839723834132705953214972810696552787442973882018321805459893307951222727304947943473405480245804797934407665433455020274185779790207672778654713089926220472412495183246850811664506836138386156113180334787252232369294169891277601590890222792980643976342174274656288508196216967864307332210616501125519848546347703871512531490060510302446720393118963104975513169636902097392956899721458822590922291204628684169425399909440693197062506296576484901074498964989271491988625956583535606251788074150513072034181257247660348584237640396059588391804681804175321944642246661681923517\n"
     ]
    }
   ],
   "source": [
    "t_17 = crt(ciphers, moduli)\n",
    "print(t_17)"
   ]
  },
  {
   "cell_type": "markdown",
   "id": "439dee5e-1e26-499e-a9d7-e9b990ba9189",
   "metadata": {},
   "source": [
    "Needless to say, $t^{17}$ is a very large number, so finding the $17^{\\mathrm{th}}$ root would take quite some time if we tried a standard $\\texttt{for}$ loop, iterating over the integers. Instead, we will use binary search to find our $t$:"
   ]
  },
  {
   "cell_type": "code",
   "execution_count": 5,
   "id": "98110285-d44c-444f-859f-b8362170fa0b",
   "metadata": {},
   "outputs": [
    {
     "name": "stdout",
     "output_type": "stream",
     "text": [
      "3338241147602646630929616677712790662799561818671257533591173576912964621664572526073572307837\n"
     ]
    }
   ],
   "source": [
    "def find_invpow(x,n):\n",
    "    '''Uses binary search to find the integral n_th root of x'''\n",
    "    high = 1\n",
    "    while high ** n <= x:\n",
    "        high *= 2\n",
    "    low = high//2\n",
    "    while low < high:\n",
    "        mid = (low + high) // 2\n",
    "        if low < mid and mid**n < x:\n",
    "            low = mid\n",
    "        elif high > mid and mid**n > x:\n",
    "            high = mid\n",
    "        else:\n",
    "            return mid\n",
    "    return mid + 1\n",
    "\n",
    "t = find_invpow(t_17, 17)\n",
    "print(t)"
   ]
  },
  {
   "cell_type": "markdown",
   "id": "e2c6f28d-2c0a-4e87-ac75-0411ab4d6561",
   "metadata": {},
   "source": [
    "Now, we just need to convert this number into readable text. To do this, we may use the $\\texttt{long\\_to\\_bytes}$ method from $\\texttt{Crypto.Util.number}$:"
   ]
  },
  {
   "cell_type": "code",
   "execution_count": 6,
   "id": "f8e87687-3a9f-4a07-8fe1-39dec7660b0a",
   "metadata": {},
   "outputs": [
    {
     "data": {
      "text/plain": [
       "b'flag{M1gH7_W4N7_50M3_P4DD1nG_Nex7_t1m3}'"
      ]
     },
     "execution_count": 6,
     "metadata": {},
     "output_type": "execute_result"
    }
   ],
   "source": [
    "from Crypto.Util import number\n",
    "\n",
    "number.long_to_bytes(t)"
   ]
  },
  {
   "cell_type": "markdown",
   "id": "543030a5-914f-43c5-b54e-33a83e3704f8",
   "metadata": {},
   "source": [
    "Alternatively, we may use the built-in $\\texttt{to\\_bytes}$ method:"
   ]
  },
  {
   "cell_type": "code",
   "execution_count": 7,
   "id": "e9219a20-3cfd-4f08-acd3-26bfbec94d32",
   "metadata": {},
   "outputs": [
    {
     "data": {
      "text/plain": [
       "b'flag{M1gH7_W4N7_50M3_P4DD1nG_Nex7_t1m3}'"
      ]
     },
     "execution_count": 7,
     "metadata": {},
     "output_type": "execute_result"
    }
   ],
   "source": [
    "from math import ceil, log\n",
    "\n",
    "t.to_bytes(ceil(log(t, 2**8))) # or t.to_bytes((len(hex(t)) - 2)//2)"
   ]
  }
 ],
 "metadata": {
  "kernelspec": {
   "display_name": "Python 3 (ipykernel)",
   "language": "python",
   "name": "python3"
  },
  "language_info": {
   "codemirror_mode": {
    "name": "ipython",
    "version": 3
   },
   "file_extension": ".py",
   "mimetype": "text/x-python",
   "name": "python",
   "nbconvert_exporter": "python",
   "pygments_lexer": "ipython3",
   "version": "3.11.4"
  }
 },
 "nbformat": 4,
 "nbformat_minor": 5
}
