{
 "cells": [
  {
   "cell_type": "markdown",
   "id": "7ef27dbf-d5c8-4d64-a406-b632878f55cc",
   "metadata": {},
   "source": [
    "# Block Party Freq Solution"
   ]
  },
  {
   "cell_type": "markdown",
   "id": "75f6d18d-2eb3-4134-9042-df7643ddee84",
   "metadata": {},
   "source": [
    "## Working with the Ciphertext\n",
    "\n",
    "Generally, we are more interested in the bytes of our ciphertext than the encoded version of our ciphertext, so when we will read our file in binary mode:"
   ]
  },
  {
   "cell_type": "code",
   "execution_count": 1,
   "id": "52264ef2-c9de-411c-9cad-976b5fa45cac",
   "metadata": {},
   "outputs": [],
   "source": [
    "f = open('ciphertext.txt', 'rb') #'r' for read and 'b' for binary mode\n",
    "ciphertext = f.read()\n",
    "f.close()"
   ]
  },
  {
   "cell_type": "markdown",
   "id": "ae7564c3-f221-40db-8f99-823ca4c314f0",
   "metadata": {},
   "source": [
    "Given we are working with a 16-bit cipher and the same key is applied to each block, we need only find the plaintext of one block. However, without plaintext-ciphertext pairs readily available, we are left guessing pairs. Nevertheless, this kind of guessing game can significantly benefit from a classical cryptanalysis technique known as 'frequency analysis'."
   ]
  },
  {
   "cell_type": "markdown",
   "id": "d280bc5b-a08a-4073-800a-589e0c915684",
   "metadata": {},
   "source": [
    "## Using Frequency Analysis\n",
    "\n",
    "Whenever we read ordinary text, we may notice that 'e', 't', and 'a' are usually the most common letters (in that order). So, if we were dealing with a simple injective encrypting function $E$ where each character is encrypted one-by-one, we would note the most common character in our ciphertext, say 'j', and suppose $E$ maps 'e' to 'j'. Inversely, our decrypting function $D$ would map 'j' to 'e'. We would then suppose $E$ maps 't' to the second most common character in our ciphertext, and 'a' to the third most common. From there, we may be able to pick out some words (think Wheel of Fortune), construct a mapping, and potentially uncover our plaintext. In this case however, we are dealing with two characters at a time given the block size of 16 bits and an 8-bit encoding scheme. So, we need to make use of the most common bigram in the English language, 'th'. Still, we also need to find the most common word (two bytes) in our ciphertext:"
   ]
  },
  {
   "cell_type": "code",
   "execution_count": 2,
   "id": "e58c7114-2abf-4b0e-9179-06a87e135015",
   "metadata": {},
   "outputs": [
    {
     "data": {
      "text/plain": [
       "'0x3660'"
      ]
     },
     "execution_count": 2,
     "metadata": {},
     "output_type": "execute_result"
    }
   ],
   "source": [
    "cipher_blocks = []\n",
    "for i in range(0, len(ciphertext), 2):\n",
    "    cipher_blocks.append(ciphertext[i:i+2])\n",
    "\n",
    "commonness = 0\n",
    "for block in set(cipher_blocks):\n",
    "    if cipher_blocks.count(block) > commonness:\n",
    "        most_common_block = block\n",
    "        commonness = cipher_blocks.count(block)\n",
    "\n",
    "hex(int.from_bytes(most_common_block))"
   ]
  },
  {
   "cell_type": "markdown",
   "id": "deb17a68-4612-44b1-8fae-b60efe351c0d",
   "metadata": {},
   "source": [
    "Now, we may XOR word $3660_{16}$ with $7468_{16}$ ('th' decoded) to suspect a key. Again, this may or may not be the right key as 'th' is not always the most common letter in every piece of text and the encryption function here handles all characters, not just alphabetic ones. Nevertheless, we have the following canidate:"
   ]
  },
  {
   "cell_type": "code",
   "execution_count": 3,
   "id": "89675be4-4954-4af5-9398-1c79bfc6583a",
   "metadata": {},
   "outputs": [
    {
     "name": "stdout",
     "output_type": "stream",
     "text": [
      "potential key: 0x4208\n"
     ]
    }
   ],
   "source": [
    "key = int.from_bytes(most_common_block) ^ int.from_bytes(b'th')\n",
    "print(f'potential key: {hex(key)}')"
   ]
  },
  {
   "cell_type": "markdown",
   "id": "51c3f483-9975-457f-bd19-e936ee5c86fd",
   "metadata": {},
   "source": [
    "## Uncovering our Plaintext\n",
    "\n",
    "With this suspected key, we may construct plaintext, which may be or not be be the true plaintext. To our fortune, we find:"
   ]
  },
  {
   "cell_type": "code",
   "execution_count": 4,
   "id": "ef822af2-6c34-400f-a48a-646028feddfb",
   "metadata": {},
   "outputs": [
    {
     "name": "stdout",
     "output_type": "stream",
     "text": [
      "Good evening,\n",
      "\n",
      "Below is the information you requested:\n",
      "\n",
      "flag{5up3r_Fr3q_th3t4}\n",
      "\n",
      "Nevertheless, I still think there is something off about our current encryption methods. I have a theory about a possible weakness, and I think that I am close to a breakthrough. Still, I wanted to get your thoughts and think up solutions that may soothe any concerns. Hope to hear back soon, thank you.\n",
      "\u0000\n"
     ]
    }
   ],
   "source": [
    "key_pad = b''.join([key.to_bytes(2)] * len(cipher_blocks))\n",
    "\n",
    "plaintext = b''\n",
    "for c, k in zip(ciphertext, key_pad):\n",
    "    plaintext += (c ^ k).to_bytes()\n",
    "\n",
    "print(''.join([chr(p) for p in plaintext]))"
   ]
  },
  {
   "cell_type": "markdown",
   "id": "a10756ec-9ecf-4e37-a7b7-4dc8ac303a33",
   "metadata": {},
   "source": [
    "By even cursory inspection, we see rather promising text. Looking closer we find our flag, $\\texttt{flag\\{5up3r\\_Fr3q\\_th3t4\\}}$."
   ]
  }
 ],
 "metadata": {
  "kernelspec": {
   "display_name": "Python 3 (ipykernel)",
   "language": "python",
   "name": "python3"
  },
  "language_info": {
   "codemirror_mode": {
    "name": "ipython",
    "version": 3
   },
   "file_extension": ".py",
   "mimetype": "text/x-python",
   "name": "python",
   "nbconvert_exporter": "python",
   "pygments_lexer": "ipython3",
   "version": "3.11.4"
  }
 },
 "nbformat": 4,
 "nbformat_minor": 5
}
